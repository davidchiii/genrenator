{
  "cells": [
    {
      "cell_type": "markdown",
      "metadata": {
        "id": "6vkIUUGG8uf7"
      },
      "source": [
        "# Music Genre Classification\n",
        "An music classifier using multiple machine learning methods\n",
        "\n",
        "**Neural Networks** • **SVMs** • **Logistic Regression**\n",
        "\n",
        "\n",
        "---\n",
        "Authors \n",
        "- David Chang\n",
        "- Denizhan Ene\n",
        "---\n",
        "Credits\n",
        "- Dataset: [GTZAN Dataset](https://www.kaggle.com/datasets/andradaolteanu/gtzan-dataset-music-genre-classification)\n",
        "- sklearn: [Docs](https://scikit-learn.org/0.21/documentation.html)\n",
        "---\n",
        "\n",
        "For local installations:\n",
        "```Shell\n",
        "pip install kaggle\n",
        "kaggle datasets download -d andradaolteanu/gtzan-dataset-music-genre-classification\n",
        "```"
      ]
    },
    {
      "cell_type": "markdown",
      "metadata": {
        "id": "uQrZj1WnFnxG"
      },
      "source": [
        "# Setup\n",
        "\n",
        "In this section, we set up the dataset by establishing a directory where it is and where the information will be contained in. The CSV is stored in a shared Google Drive directory that could be accessed by mounting the drive.\n",
        "\n",
        "We utilize many libraries in the project so this is the place we put all the imports as well."
      ]
    },
    {
      "cell_type": "code",
      "execution_count": null,
      "metadata": {
        "colab": {
          "base_uri": "https://localhost:8080/"
        },
        "id": "-spLAt7irjuh",
        "outputId": "37be9fa9-5730-49e1-bc09-614b68eba4c5"
      },
      "outputs": [
        {
          "output_type": "stream",
          "name": "stdout",
          "text": [
            "Drive already mounted at /content/drive; to attempt to forcibly remount, call drive.mount(\"/content/drive\", force_remount=True).\n"
          ]
        }
      ],
      "source": [
        "from google.colab import drive\n",
        "drive.mount('/content/drive')"
      ]
    },
    {
      "cell_type": "code",
      "execution_count": null,
      "metadata": {
        "id": "diVwVNvK8dRk"
      },
      "outputs": [],
      "source": [
        "# |‾‾‾‾‾‾‾‾‾‾‾‾‾‾‾‾‾‾‾‾‾‾‾‾‾‾‾|\n",
        "# |                           |\n",
        "# |          Imports          |\n",
        "# |                           |\n",
        "# |___________________________|\n",
        "\n",
        "import numpy as np\n",
        "import matplotlib\n",
        "import pandas as pd\n",
        "import matplotlib.pyplot as plt\n",
        "\n",
        "\n",
        "from sklearn.neural_network import MLPClassifier\n",
        "from sklearn.metrics import classification_report, confusion_matrix, accuracy_score\n",
        "from sklearn.metrics import ConfusionMatrixDisplay\n",
        "\n",
        "from sklearn.utils import shuffle\n",
        "from sklearn.model_selection import train_test_split\n",
        "from sklearn import preprocessing\n",
        "from sklearn.linear_model import LogisticRegression\n",
        "from sklearn.preprocessing import LabelEncoder\n",
        "\n",
        "import librosa\n",
        "\n",
        "from keras.models import Sequential\n",
        "from keras.layers import Conv2D, MaxPooling2D, Flatten, Dense, Dropout\n",
        "from keras.utils import to_categorical\n",
        "from PIL import Image"
      ]
    },
    {
      "cell_type": "markdown",
      "metadata": {
        "id": "799-6-dyVhXs"
      },
      "source": [
        "Included in the dataset are two csv files, one with 1000 samples that contain 30 seconds of data. The other one has ~ 9990 samples but only with 3 seconds of data.\n",
        "\n",
        "We're planning running the model on both."
      ]
    },
    {
      "cell_type": "code",
      "execution_count": null,
      "metadata": {
        "colab": {
          "base_uri": "https://localhost:8080/"
        },
        "id": "-hyWedniuJwA",
        "outputId": "3f08bff4-6b6d-4a84-a540-7903b875bcba"
      },
      "outputs": [
        {
          "output_type": "stream",
          "name": "stdout",
          "text": [
            "shape of the first dataset:(1000, 60)\n",
            "shape of the second dataset:(9990, 60)\n",
            "     filename  length  chroma_stft_mean  chroma_stft_var  rms_mean  rms_var  \\\n",
            "0       False   False             False            False     False    False   \n",
            "1       False   False             False            False     False    False   \n",
            "2       False   False             False            False     False    False   \n",
            "3       False   False             False            False     False    False   \n",
            "4       False   False             False            False     False    False   \n",
            "..        ...     ...               ...              ...       ...      ...   \n",
            "995     False   False             False            False     False    False   \n",
            "996     False   False             False            False     False    False   \n",
            "997     False   False             False            False     False    False   \n",
            "998     False   False             False            False     False    False   \n",
            "999     False   False             False            False     False    False   \n",
            "\n",
            "     spectral_centroid_mean  spectral_centroid_var  spectral_bandwidth_mean  \\\n",
            "0                     False                  False                    False   \n",
            "1                     False                  False                    False   \n",
            "2                     False                  False                    False   \n",
            "3                     False                  False                    False   \n",
            "4                     False                  False                    False   \n",
            "..                      ...                    ...                      ...   \n",
            "995                   False                  False                    False   \n",
            "996                   False                  False                    False   \n",
            "997                   False                  False                    False   \n",
            "998                   False                  False                    False   \n",
            "999                   False                  False                    False   \n",
            "\n",
            "     spectral_bandwidth_var  ...  mfcc16_var  mfcc17_mean  mfcc17_var  \\\n",
            "0                     False  ...       False        False       False   \n",
            "1                     False  ...       False        False       False   \n",
            "2                     False  ...       False        False       False   \n",
            "3                     False  ...       False        False       False   \n",
            "4                     False  ...       False        False       False   \n",
            "..                      ...  ...         ...          ...         ...   \n",
            "995                   False  ...       False        False       False   \n",
            "996                   False  ...       False        False       False   \n",
            "997                   False  ...       False        False       False   \n",
            "998                   False  ...       False        False       False   \n",
            "999                   False  ...       False        False       False   \n",
            "\n",
            "     mfcc18_mean  mfcc18_var  mfcc19_mean  mfcc19_var  mfcc20_mean  \\\n",
            "0          False       False        False       False        False   \n",
            "1          False       False        False       False        False   \n",
            "2          False       False        False       False        False   \n",
            "3          False       False        False       False        False   \n",
            "4          False       False        False       False        False   \n",
            "..           ...         ...          ...         ...          ...   \n",
            "995        False       False        False       False        False   \n",
            "996        False       False        False       False        False   \n",
            "997        False       False        False       False        False   \n",
            "998        False       False        False       False        False   \n",
            "999        False       False        False       False        False   \n",
            "\n",
            "     mfcc20_var  label  \n",
            "0         False  False  \n",
            "1         False  False  \n",
            "2         False  False  \n",
            "3         False  False  \n",
            "4         False  False  \n",
            "..          ...    ...  \n",
            "995       False  False  \n",
            "996       False  False  \n",
            "997       False  False  \n",
            "998       False  False  \n",
            "999       False  False  \n",
            "\n",
            "[1000 rows x 60 columns]\n",
            "      filename  length  chroma_stft_mean  chroma_stft_var  rms_mean  rms_var  \\\n",
            "0        False   False             False            False     False    False   \n",
            "1        False   False             False            False     False    False   \n",
            "2        False   False             False            False     False    False   \n",
            "3        False   False             False            False     False    False   \n",
            "4        False   False             False            False     False    False   \n",
            "...        ...     ...               ...              ...       ...      ...   \n",
            "9985     False   False             False            False     False    False   \n",
            "9986     False   False             False            False     False    False   \n",
            "9987     False   False             False            False     False    False   \n",
            "9988     False   False             False            False     False    False   \n",
            "9989     False   False             False            False     False    False   \n",
            "\n",
            "      spectral_centroid_mean  spectral_centroid_var  spectral_bandwidth_mean  \\\n",
            "0                      False                  False                    False   \n",
            "1                      False                  False                    False   \n",
            "2                      False                  False                    False   \n",
            "3                      False                  False                    False   \n",
            "4                      False                  False                    False   \n",
            "...                      ...                    ...                      ...   \n",
            "9985                   False                  False                    False   \n",
            "9986                   False                  False                    False   \n",
            "9987                   False                  False                    False   \n",
            "9988                   False                  False                    False   \n",
            "9989                   False                  False                    False   \n",
            "\n",
            "      spectral_bandwidth_var  ...  mfcc16_var  mfcc17_mean  mfcc17_var  \\\n",
            "0                      False  ...       False        False       False   \n",
            "1                      False  ...       False        False       False   \n",
            "2                      False  ...       False        False       False   \n",
            "3                      False  ...       False        False       False   \n",
            "4                      False  ...       False        False       False   \n",
            "...                      ...  ...         ...          ...         ...   \n",
            "9985                   False  ...       False        False       False   \n",
            "9986                   False  ...       False        False       False   \n",
            "9987                   False  ...       False        False       False   \n",
            "9988                   False  ...       False        False       False   \n",
            "9989                   False  ...       False        False       False   \n",
            "\n",
            "      mfcc18_mean  mfcc18_var  mfcc19_mean  mfcc19_var  mfcc20_mean  \\\n",
            "0           False       False        False       False        False   \n",
            "1           False       False        False       False        False   \n",
            "2           False       False        False       False        False   \n",
            "3           False       False        False       False        False   \n",
            "4           False       False        False       False        False   \n",
            "...           ...         ...          ...         ...          ...   \n",
            "9985        False       False        False       False        False   \n",
            "9986        False       False        False       False        False   \n",
            "9987        False       False        False       False        False   \n",
            "9988        False       False        False       False        False   \n",
            "9989        False       False        False       False        False   \n",
            "\n",
            "      mfcc20_var  label  \n",
            "0          False  False  \n",
            "1          False  False  \n",
            "2          False  False  \n",
            "3          False  False  \n",
            "4          False  False  \n",
            "...          ...    ...  \n",
            "9985       False  False  \n",
            "9986       False  False  \n",
            "9987       False  False  \n",
            "9988       False  False  \n",
            "9989       False  False  \n",
            "\n",
            "[9990 rows x 60 columns]\n",
            "dictionary with all labels:{'blues': 0, 'classical': 1, 'country': 2, 'disco': 3, 'hiphop': 4, 'jazz': 5, 'metal': 6, 'pop': 7, 'reggae': 8, 'rock': 9}\n"
          ]
        }
      ],
      "source": [
        "# |‾‾‾‾‾‾‾‾‾‾‾‾‾‾‾‾‾‾‾‾‾‾‾‾‾‾‾|\n",
        "# |                           |\n",
        "# |         null check        |\n",
        "# |                           |\n",
        "# |___________________________|\n",
        "\n",
        "# check if any values need filling\n",
        "\n",
        "#read feature data from csv file\n",
        "#hosted in google drive\n",
        "df_30sec = pd.read_csv(\"/content/drive/MyDrive/ML_genre_classification_nn_project/Data/features_30_sec.csv\")\n",
        "df_3sec = pd.read_csv(\"/content/drive/MyDrive/ML_genre_classification_nn_project/Data/features_3_sec.csv\")\n",
        "print(f'shape of the first dataset:{df_30sec.shape}')\n",
        "print(f'shape of the second dataset:{df_3sec.shape}')\n",
        "# print(df.head())\n",
        "# print(df2.head())\n",
        "\n",
        "print(df_30sec.isnull())\n",
        "print(df_3sec.isnull())\n",
        "# None\n",
        "\n",
        "# |‾‾‾‾‾‾‾‾‾‾‾‾‾‾‾‾‾‾‾‾‾‾‾‾‾‾‾|\n",
        "# |                           |\n",
        "# |       sanity check        |\n",
        "# |                           |\n",
        "# |___________________________|\n",
        "\n",
        "\n",
        "label_index = dict()\n",
        "for i, j in enumerate(df_30sec.label.unique()):\n",
        "  label_index[j] = i\n",
        "\n",
        "print(f'dictionary with all labels:{label_index}')\n",
        "\n",
        "\n",
        "# organize into feature/label\n",
        "X = df_30sec.drop('filename', axis=1)\n",
        "y = X.pop('label').to_numpy()\n",
        "\n",
        "\n",
        "X2 = df_3sec.drop('filename', axis=1)\n",
        "y2 = X2.pop('label').to_numpy()\n",
        "\n",
        "\n",
        "\n",
        "# print(X2)\n",
        "# print(y2)\n",
        "\n",
        "# encode the labels\n",
        "y = np.array([label_index[x] for x in y]).reshape((y.shape[0],1))"
      ]
    },
    {
      "cell_type": "code",
      "source": [
        "labels=['blues', 'classical', 'country', 'disco', 'hip-hop', 'jazz', 'metal', 'pop', 'reggae', 'rock'] \n",
        "counts = np.zeros(len(labels))\n",
        "for i in range(len(labels)):\n",
        "  counts[i] = np.sum(y==i)\n",
        "\n",
        "plt.bar(np.arange(len(labels)), counts)\n",
        "plt.xticks(np.arange(len(labels)), labels, rotation='vertical')\n",
        "\n",
        "plt.ylabel('Number of samples')\n",
        "plt.xlabel('Class label')\n",
        "plt.show()"
      ],
      "metadata": {
        "colab": {
          "base_uri": "https://localhost:8080/",
          "height": 494
        },
        "id": "fya8D6mlfOFJ",
        "outputId": "bd0b4bbd-0678-459b-b753-ad0dce9ab38f"
      },
      "execution_count": null,
      "outputs": [
        {
          "output_type": "display_data",
          "data": {
            "text/plain": [
              "<Figure size 640x480 with 1 Axes>"
            ],
            "image/png": "[encoded data removed]"
          },
          "metadata": {}
        }
      ]
    },
    {
      "cell_type": "code",
      "execution_count": null,
      "metadata": {
        "colab": {
          "base_uri": "https://localhost:8080/",
          "height": 488
        },
        "id": "ET5qJVtGVY8n",
        "outputId": "70eff395-ea91-4bcc-a6ba-2358d19eaf9e"
      },
      "outputs": [
        {
          "output_type": "execute_result",
          "data": {
            "text/plain": [
              "     length  chroma_stft_mean  chroma_stft_var  rms_mean   rms_var  \\\n",
              "0    661794          0.350088         0.088757  0.130228  0.002827   \n",
              "1    661794          0.340914         0.094980  0.095948  0.002373   \n",
              "2    661794          0.363637         0.085275  0.175570  0.002746   \n",
              "3    661794          0.404785         0.093999  0.141093  0.006346   \n",
              "4    661794          0.308526         0.087841  0.091529  0.002303   \n",
              "..      ...               ...              ...       ...       ...   \n",
              "995  661794          0.352063         0.080487  0.079486  0.000345   \n",
              "996  661794          0.398687         0.075086  0.076458  0.000588   \n",
              "997  661794          0.432142         0.075268  0.081651  0.000322   \n",
              "998  661794          0.362485         0.091506  0.083860  0.001211   \n",
              "999  661794          0.358401         0.085884  0.054454  0.000336   \n",
              "\n",
              "     spectral_centroid_mean  spectral_centroid_var  spectral_bandwidth_mean  \\\n",
              "0               1784.165850          129774.064525              2002.449060   \n",
              "1               1530.176679          375850.073649              2039.036516   \n",
              "2               1552.811865          156467.643368              1747.702312   \n",
              "3               1070.106615          184355.942417              1596.412872   \n",
              "4               1835.004266          343399.939274              1748.172116   \n",
              "..                      ...                    ...                      ...   \n",
              "995             2008.149458          282174.689224              2106.541053   \n",
              "996             2006.843354          182114.709510              2068.942009   \n",
              "997             2077.526598          231657.968040              1927.293153   \n",
              "998             1398.699344          240318.731073              1818.450280   \n",
              "999             1609.795082          422203.216152              1797.213044   \n",
              "\n",
              "     spectral_bandwidth_var  rolloff_mean  ...  mfcc16_mean  mfcc16_var  \\\n",
              "0              85882.761315   3805.839606  ...     0.752740   52.420910   \n",
              "1             213843.755497   3550.522098  ...     0.927998   55.356403   \n",
              "2              76254.192257   3042.260232  ...     2.451690   40.598766   \n",
              "3             166441.494769   2184.745799  ...     0.780874   44.427753   \n",
              "4              88445.209036   3579.757627  ...    -4.520576   86.099236   \n",
              "..                      ...           ...  ...          ...         ...   \n",
              "995            88609.749506   4253.557033  ...     1.789867   45.050526   \n",
              "996            82426.016726   4149.338328  ...     3.739020   33.851742   \n",
              "997            74717.124394   4031.405321  ...     1.838090   33.597008   \n",
              "998           109090.207161   3015.631004  ...    -2.812176   46.324894   \n",
              "999           120115.632927   3246.908930  ...     1.794104   59.167755   \n",
              "\n",
              "     mfcc17_mean  mfcc17_var  mfcc18_mean  mfcc18_var  mfcc19_mean  \\\n",
              "0      -1.690215   36.524071    -0.408979   41.597103    -2.303523   \n",
              "1      -0.731125   60.314529     0.295073   48.120598    -0.283518   \n",
              "2      -7.729093   47.639427    -1.816407   52.382141    -3.439720   \n",
              "3      -3.319597   50.206673     0.636965   37.319130    -0.619121   \n",
              "4      -5.454034   75.269707    -0.916874   53.613918    -4.404827   \n",
              "..           ...         ...          ...         ...          ...   \n",
              "995   -13.289984   41.754955     2.484145   36.778877    -6.713265   \n",
              "996   -10.848309   39.395096     1.881229   32.010040    -7.461491   \n",
              "997   -12.845291   36.367264     3.440978   36.001110   -12.588070   \n",
              "998    -4.416050   43.583942     1.556207   34.331261    -5.041897   \n",
              "999    -7.069775   73.760391     0.028346   76.504326    -2.025783   \n",
              "\n",
              "     mfcc19_var  mfcc20_mean  mfcc20_var  \n",
              "0     55.062923     1.221291   46.936035  \n",
              "1     51.106190     0.531217   45.786282  \n",
              "2     46.639660    -2.231258   30.573025  \n",
              "3     37.259739    -3.407448   31.949339  \n",
              "4     62.910812   -11.703234   55.195160  \n",
              "..          ...          ...         ...  \n",
              "995   54.866825    -1.193787   49.950665  \n",
              "996   39.196327    -2.795338   31.773624  \n",
              "997   42.502201    -2.106337   29.865515  \n",
              "998   47.227180    -3.590644   41.299088  \n",
              "999   72.189316     1.155239   49.662510  \n",
              "\n",
              "[1000 rows x 58 columns]"
            ],
            "text/html": [
              "\n",
              "  <div id=\"df-d97ff7d2-cfd4-4a83-85a5-94c03d8f3edb\">\n",
              "    <div class=\"colab-df-container\">\n",
              "      <div>\n",
              "<style scoped>\n",
              "    .dataframe tbody tr th:only-of-type {\n",
              "        vertical-align: middle;\n",
              "    }\n",
              "\n",
              "    .dataframe tbody tr th {\n",
              "        vertical-align: top;\n",
              "    }\n",
              "\n",
              "    .dataframe thead th {\n",
              "        text-align: right;\n",
              "    }\n",
              "</style>\n",
              "<table border=\"1\" class=\"dataframe\">\n",
              "  <thead>\n",
              "    <tr style=\"text-align: right;\">\n",
              "      <th></th>\n",
              "      <th>length</th>\n",
              "      <th>chroma_stft_mean</th>\n",
              "      <th>chroma_stft_var</th>\n",
              "      <th>rms_mean</th>\n",
              "      <th>rms_var</th>\n",
              "      <th>spectral_centroid_mean</th>\n",
              "      <th>spectral_centroid_var</th>\n",
              "      <th>spectral_bandwidth_mean</th>\n",
              "      <th>spectral_bandwidth_var</th>\n",
              "      <th>rolloff_mean</th>\n",
              "      <th>...</th>\n",
              "      <th>mfcc16_mean</th>\n",
              "      <th>mfcc16_var</th>\n",
              "      <th>mfcc17_mean</th>\n",
              "      <th>mfcc17_var</th>\n",
              "      <th>mfcc18_mean</th>\n",
              "      <th>mfcc18_var</th>\n",
              "      <th>mfcc19_mean</th>\n",
              "      <th>mfcc19_var</th>\n",
              "      <th>mfcc20_mean</th>\n",
              "      <th>mfcc20_var</th>\n",
              "    </tr>\n",
              "  </thead>\n",
              "  <tbody>\n",
              "    <tr>\n",
              "      <th>0</th>\n",
              "      <td>661794</td>\n",
              "      <td>0.350088</td>\n",
              "      <td>0.088757</td>\n",
              "      <td>0.130228</td>\n",
              "      <td>0.002827</td>\n",
              "      <td>1784.165850</td>\n",
              "      <td>129774.064525</td>\n",
              "      <td>2002.449060</td>\n",
              "      <td>85882.761315</td>\n",
              "      <td>3805.839606</td>\n",
              "      <td>...</td>\n",
              "      <td>0.752740</td>\n",
              "      <td>52.420910</td>\n",
              "      <td>-1.690215</td>\n",
              "      <td>36.524071</td>\n",
              "      <td>-0.408979</td>\n",
              "      <td>41.597103</td>\n",
              "      <td>-2.303523</td>\n",
              "      <td>55.062923</td>\n",
              "      <td>1.221291</td>\n",
              "      <td>46.936035</td>\n",
              "    </tr>\n",
              "    <tr>\n",
              "      <th>1</th>\n",
              "      <td>661794</td>\n",
              "      <td>0.340914</td>\n",
              "      <td>0.094980</td>\n",
              "      <td>0.095948</td>\n",
              "      <td>0.002373</td>\n",
              "      <td>1530.176679</td>\n",
              "      <td>375850.073649</td>\n",
              "      <td>2039.036516</td>\n",
              "      <td>213843.755497</td>\n",
              "      <td>3550.522098</td>\n",
              "      <td>...</td>\n",
              "      <td>0.927998</td>\n",
              "      <td>55.356403</td>\n",
              "      <td>-0.731125</td>\n",
              "      <td>60.314529</td>\n",
              "      <td>0.295073</td>\n",
              "      <td>48.120598</td>\n",
              "      <td>-0.283518</td>\n",
              "      <td>51.106190</td>\n",
              "      <td>0.531217</td>\n",
              "      <td>45.786282</td>\n",
              "    </tr>\n",
              "    <tr>\n",
              "      <th>2</th>\n",
              "      <td>661794</td>\n",
              "      <td>0.363637</td>\n",
              "      <td>0.085275</td>\n",
              "      <td>0.175570</td>\n",
              "      <td>0.002746</td>\n",
              "      <td>1552.811865</td>\n",
              "      <td>156467.643368</td>\n",
              "      <td>1747.702312</td>\n",
              "      <td>76254.192257</td>\n",
              "      <td>3042.260232</td>\n",
              "      <td>...</td>\n",
              "      <td>2.451690</td>\n",
              "      <td>40.598766</td>\n",
              "      <td>-7.729093</td>\n",
              "      <td>47.639427</td>\n",
              "      <td>-1.816407</td>\n",
              "      <td>52.382141</td>\n",
              "      <td>-3.439720</td>\n",
              "      <td>46.639660</td>\n",
              "      <td>-2.231258</td>\n",
              "      <td>30.573025</td>\n",
              "    </tr>\n",
              "    <tr>\n",
              "      <th>3</th>\n",
              "      <td>661794</td>\n",
              "      <td>0.404785</td>\n",
              "      <td>0.093999</td>\n",
              "      <td>0.141093</td>\n",
              "      <td>0.006346</td>\n",
              "      <td>1070.106615</td>\n",
              "      <td>184355.942417</td>\n",
              "      <td>1596.412872</td>\n",
              "      <td>166441.494769</td>\n",
              "      <td>2184.745799</td>\n",
              "      <td>...</td>\n",
              "      <td>0.780874</td>\n",
              "      <td>44.427753</td>\n",
              "      <td>-3.319597</td>\n",
              "      <td>50.206673</td>\n",
              "      <td>0.636965</td>\n",
              "      <td>37.319130</td>\n",
              "      <td>-0.619121</td>\n",
              "      <td>37.259739</td>\n",
              "      <td>-3.407448</td>\n",
              "      <td>31.949339</td>\n",
              "    </tr>\n",
              "    <tr>\n",
              "      <th>4</th>\n",
              "      <td>661794</td>\n",
              "      <td>0.308526</td>\n",
              "      <td>0.087841</td>\n",
              "      <td>0.091529</td>\n",
              "      <td>0.002303</td>\n",
              "      <td>1835.004266</td>\n",
              "      <td>343399.939274</td>\n",
              "      <td>1748.172116</td>\n",
              "      <td>88445.209036</td>\n",
              "      <td>3579.757627</td>\n",
              "      <td>...</td>\n",
              "      <td>-4.520576</td>\n",
              "      <td>86.099236</td>\n",
              "      <td>-5.454034</td>\n",
              "      <td>75.269707</td>\n",
              "      <td>-0.916874</td>\n",
              "      <td>53.613918</td>\n",
              "      <td>-4.404827</td>\n",
              "      <td>62.910812</td>\n",
              "      <td>-11.703234</td>\n",
              "      <td>55.195160</td>\n",
              "    </tr>\n",
              "    <tr>\n",
              "      <th>...</th>\n",
              "      <td>...</td>\n",
              "      <td>...</td>\n",
              "      <td>...</td>\n",
              "      <td>...</td>\n",
              "      <td>...</td>\n",
              "      <td>...</td>\n",
              "      <td>...</td>\n",
              "      <td>...</td>\n",
              "      <td>...</td>\n",
              "      <td>...</td>\n",
              "      <td>...</td>\n",
              "      <td>...</td>\n",
              "      <td>...</td>\n",
              "      <td>...</td>\n",
              "      <td>...</td>\n",
              "      <td>...</td>\n",
              "      <td>...</td>\n",
              "      <td>...</td>\n",
              "      <td>...</td>\n",
              "      <td>...</td>\n",
              "      <td>...</td>\n",
              "    </tr>\n",
              "    <tr>\n",
              "      <th>995</th>\n",
              "      <td>661794</td>\n",
              "      <td>0.352063</td>\n",
              "      <td>0.080487</td>\n",
              "      <td>0.079486</td>\n",
              "      <td>0.000345</td>\n",
              "      <td>2008.149458</td>\n",
              "      <td>282174.689224</td>\n",
              "      <td>2106.541053</td>\n",
              "      <td>88609.749506</td>\n",
              "      <td>4253.557033</td>\n",
              "      <td>...</td>\n",
              "      <td>1.789867</td>\n",
              "      <td>45.050526</td>\n",
              "      <td>-13.289984</td>\n",
              "      <td>41.754955</td>\n",
              "      <td>2.484145</td>\n",
              "      <td>36.778877</td>\n",
              "      <td>-6.713265</td>\n",
              "      <td>54.866825</td>\n",
              "      <td>-1.193787</td>\n",
              "      <td>49.950665</td>\n",
              "    </tr>\n",
              "    <tr>\n",
              "      <th>996</th>\n",
              "      <td>661794</td>\n",
              "      <td>0.398687</td>\n",
              "      <td>0.075086</td>\n",
              "      <td>0.076458</td>\n",
              "      <td>0.000588</td>\n",
              "      <td>2006.843354</td>\n",
              "      <td>182114.709510</td>\n",
              "      <td>2068.942009</td>\n",
              "      <td>82426.016726</td>\n",
              "      <td>4149.338328</td>\n",
              "      <td>...</td>\n",
              "      <td>3.739020</td>\n",
              "      <td>33.851742</td>\n",
              "      <td>-10.848309</td>\n",
              "      <td>39.395096</td>\n",
              "      <td>1.881229</td>\n",
              "      <td>32.010040</td>\n",
              "      <td>-7.461491</td>\n",
              "      <td>39.196327</td>\n",
              "      <td>-2.795338</td>\n",
              "      <td>31.773624</td>\n",
              "    </tr>\n",
              "    <tr>\n",
              "      <th>997</th>\n",
              "      <td>661794</td>\n",
              "      <td>0.432142</td>\n",
              "      <td>0.075268</td>\n",
              "      <td>0.081651</td>\n",
              "      <td>0.000322</td>\n",
              "      <td>2077.526598</td>\n",
              "      <td>231657.968040</td>\n",
              "      <td>1927.293153</td>\n",
              "      <td>74717.124394</td>\n",
              "      <td>4031.405321</td>\n",
              "      <td>...</td>\n",
              "      <td>1.838090</td>\n",
              "      <td>33.597008</td>\n",
              "      <td>-12.845291</td>\n",
              "      <td>36.367264</td>\n",
              "      <td>3.440978</td>\n",
              "      <td>36.001110</td>\n",
              "      <td>-12.588070</td>\n",
              "      <td>42.502201</td>\n",
              "      <td>-2.106337</td>\n",
              "      <td>29.865515</td>\n",
              "    </tr>\n",
              "    <tr>\n",
              "      <th>998</th>\n",
              "      <td>661794</td>\n",
              "      <td>0.362485</td>\n",
              "      <td>0.091506</td>\n",
              "      <td>0.083860</td>\n",
              "      <td>0.001211</td>\n",
              "      <td>1398.699344</td>\n",
              "      <td>240318.731073</td>\n",
              "      <td>1818.450280</td>\n",
              "      <td>109090.207161</td>\n",
              "      <td>3015.631004</td>\n",
              "      <td>...</td>\n",
              "      <td>-2.812176</td>\n",
              "      <td>46.324894</td>\n",
              "      <td>-4.416050</td>\n",
              "      <td>43.583942</td>\n",
              "      <td>1.556207</td>\n",
              "      <td>34.331261</td>\n",
              "      <td>-5.041897</td>\n",
              "      <td>47.227180</td>\n",
              "      <td>-3.590644</td>\n",
              "      <td>41.299088</td>\n",
              "    </tr>\n",
              "    <tr>\n",
              "      <th>999</th>\n",
              "      <td>661794</td>\n",
              "      <td>0.358401</td>\n",
              "      <td>0.085884</td>\n",
              "      <td>0.054454</td>\n",
              "      <td>0.000336</td>\n",
              "      <td>1609.795082</td>\n",
              "      <td>422203.216152</td>\n",
              "      <td>1797.213044</td>\n",
              "      <td>120115.632927</td>\n",
              "      <td>3246.908930</td>\n",
              "      <td>...</td>\n",
              "      <td>1.794104</td>\n",
              "      <td>59.167755</td>\n",
              "      <td>-7.069775</td>\n",
              "      <td>73.760391</td>\n",
              "      <td>0.028346</td>\n",
              "      <td>76.504326</td>\n",
              "      <td>-2.025783</td>\n",
              "      <td>72.189316</td>\n",
              "      <td>1.155239</td>\n",
              "      <td>49.662510</td>\n",
              "    </tr>\n",
              "  </tbody>\n",
              "</table>\n",
              "<p>1000 rows × 58 columns</p>\n",
              "</div>\n",
              "      <button class=\"colab-df-convert\" onclick=\"convertToInteractive('df-d97ff7d2-cfd4-4a83-85a5-94c03d8f3edb')\"\n",
              "              title=\"Convert this dataframe to an interactive table.\"\n",
              "              style=\"display:none;\">\n",
              "        \n",
              "  <svg xmlns=\"http://www.w3.org/2000/svg\" height=\"24px\"viewBox=\"0 0 24 24\"\n",
              "       width=\"24px\">\n",
              "    <path d=\"M0 0h24v24H0V0z\" fill=\"none\"/>\n",
              "    <path d=\"M18.56 5.44l.94 2.06.94-2.06 2.06-.94-2.06-.94-.94-2.06-.94 2.06-2.06.94zm-11 1L8.5 8.5l.94-2.06 2.06-.94-2.06-.94L8.5 2.5l-.94 2.06-2.06.94zm10 10l.94 2.06.94-2.06 2.06-.94-2.06-.94-.94-2.06-.94 2.06-2.06.94z\"/><path d=\"M17.41 7.96l-1.37-1.37c-.4-.4-.92-.59-1.43-.59-.52 0-1.04.2-1.43.59L10.3 9.45l-7.72 7.72c-.78.78-.78 2.05 0 2.83L4 21.41c.39.39.9.59 1.41.59.51 0 1.02-.2 1.41-.59l7.78-7.78 2.81-2.81c.8-.78.8-2.07 0-2.86zM5.41 20L4 18.59l7.72-7.72 1.47 1.35L5.41 20z\"/>\n",
              "  </svg>\n",
              "      </button>\n",
              "      \n",
              "  <style>\n",
              "    .colab-df-container {\n",
              "      display:flex;\n",
              "      flex-wrap:wrap;\n",
              "      gap: 12px;\n",
              "    }\n",
              "\n",
              "    .colab-df-convert {\n",
              "      background-color: #E8F0FE;\n",
              "      border: none;\n",
              "      border-radius: 50%;\n",
              "      cursor: pointer;\n",
              "      display: none;\n",
              "      fill: #1967D2;\n",
              "      height: 32px;\n",
              "      padding: 0 0 0 0;\n",
              "      width: 32px;\n",
              "    }\n",
              "\n",
              "    .colab-df-convert:hover {\n",
              "      background-color: #E2EBFA;\n",
              "      box-shadow: 0px 1px 2px rgba(60, 64, 67, 0.3), 0px 1px 3px 1px rgba(60, 64, 67, 0.15);\n",
              "      fill: #174EA6;\n",
              "    }\n",
              "\n",
              "    [theme=dark] .colab-df-convert {\n",
              "      background-color: #3B4455;\n",
              "      fill: #D2E3FC;\n",
              "    }\n",
              "\n",
              "    [theme=dark] .colab-df-convert:hover {\n",
              "      background-color: #434B5C;\n",
              "      box-shadow: 0px 1px 3px 1px rgba(0, 0, 0, 0.15);\n",
              "      filter: drop-shadow(0px 1px 2px rgba(0, 0, 0, 0.3));\n",
              "      fill: #FFFFFF;\n",
              "    }\n",
              "  </style>\n",
              "\n",
              "      <script>\n",
              "        const buttonEl =\n",
              "          document.querySelector('#df-d97ff7d2-cfd4-4a83-85a5-94c03d8f3edb button.colab-df-convert');\n",
              "        buttonEl.style.display =\n",
              "          google.colab.kernel.accessAllowed ? 'block' : 'none';\n",
              "\n",
              "        async function convertToInteractive(key) {\n",
              "          const element = document.querySelector('#df-d97ff7d2-cfd4-4a83-85a5-94c03d8f3edb');\n",
              "          const dataTable =\n",
              "            await google.colab.kernel.invokeFunction('convertToInteractive',\n",
              "                                                     [key], {});\n",
              "          if (!dataTable) return;\n",
              "\n",
              "          const docLinkHtml = 'Like what you see? Visit the ' +\n",
              "            '<a target=\"_blank\" href=https://colab.research.google.com/notebooks/data_table.ipynb>data table notebook</a>'\n",
              "            + ' to learn more about interactive tables.';\n",
              "          element.innerHTML = '';\n",
              "          dataTable['output_type'] = 'display_data';\n",
              "          await google.colab.output.renderOutput(dataTable, element);\n",
              "          const docLink = document.createElement('div');\n",
              "          docLink.innerHTML = docLinkHtml;\n",
              "          element.appendChild(docLink);\n",
              "        }\n",
              "      </script>\n",
              "    </div>\n",
              "  </div>\n",
              "  "
            ]
          },
          "metadata": {},
          "execution_count": 5
        }
      ],
      "source": [
        "X"
      ]
    },
    {
      "cell_type": "code",
      "execution_count": 60,
      "metadata": {
        "id": "nOv5BQgvVa5q",
        "colab": {
          "base_uri": "https://localhost:8080/",
          "height": 168
        },
        "outputId": "946cb053-bf41-48b1-ccfd-7574b1de1e2a"
      },
      "outputs": [
        {
          "output_type": "error",
          "ename": "AttributeError",
          "evalue": "ignored",
          "traceback": [
            "\u001b[0;31m---------------------------------------------------------------------------\u001b[0m",
            "\u001b[0;31mAttributeError\u001b[0m                            Traceback (most recent call last)",
            "\u001b[0;32m<ipython-input-60-9545f5b82155>\u001b[0m in \u001b[0;36m<cell line: 1>\u001b[0;34m()\u001b[0m\n\u001b[0;32m----> 1\u001b[0;31m \u001b[0mX\u001b[0m\u001b[0;34m.\u001b[0m\u001b[0minfo\u001b[0m\u001b[0;34m(\u001b[0m\u001b[0;34m)\u001b[0m\u001b[0;34m\u001b[0m\u001b[0;34m\u001b[0m\u001b[0m\n\u001b[0m",
            "\u001b[0;31mAttributeError\u001b[0m: 'numpy.ndarray' object has no attribute 'info'"
          ]
        }
      ],
      "source": [
        "X.info()"
      ]
    },
    {
      "cell_type": "markdown",
      "metadata": {
        "id": "8sAd_QY035jO"
      },
      "source": [
        "---\n"
      ]
    },
    {
      "cell_type": "markdown",
      "metadata": {
        "id": "ObiA7xMJuv1b"
      },
      "source": [
        "Scale Data"
      ]
    },
    {
      "cell_type": "code",
      "execution_count": null,
      "metadata": {
        "colab": {
          "base_uri": "https://localhost:8080/"
        },
        "id": "j0D5i8estdVm",
        "outputId": "5af655be-9714-4926-e78a-e70bd6af19e6"
      },
      "outputs": [
        {
          "output_type": "stream",
          "name": "stdout",
          "text": [
            "30 seconds training examples shape:\t(800, 58)\n",
            "30 seconds testing examples shape:\t(200, 58)\n",
            "30 seconds training labels shape:\t(800, 1)\n",
            "30 seconds testing labels shape:\t(200, 1)\n",
            "\n",
            "3 seconds training examples shape:\t(7992, 58)\n",
            "3 seconds testing examples shape:\t(1998, 58)\n",
            "3 seconds training labels shape:\t(7992,)\n",
            "3 seconds testing labels shape:\t\t(1998,)\n"
          ]
        }
      ],
      "source": [
        "# |‾‾‾‾‾‾‾‾‾‾‾‾‾‾‾‾‾‾‾‾‾‾‾‾‾‾‾|\n",
        "# |                           |\n",
        "# |           TODO!           |\n",
        "# |                           |\n",
        "# |___________________________|\n",
        "# implement normalization?\n",
        "scalar = preprocessing.StandardScaler()\n",
        "X = scalar.fit_transform(X)\n",
        "\n",
        "scalar2 = preprocessing.StandardScaler()\n",
        "X2 = scalar2.fit_transform(X2)\n",
        "\n",
        "\n",
        "\n",
        "\n",
        "# split the 30 second data as: 80% training, 20% testing\n",
        "X_train_30, X_test_30, y_train_30, y_test_30 = train_test_split(X, y, test_size=.2, random_state=42)\n",
        "\n",
        "#split the 3 second data as: 80% training, 20% testing\n",
        "X_train_3, X_test_3, y_train_3, y_test_3 = train_test_split(X2, y2, test_size=.2, random_state=42)\n",
        "\n",
        "print(f'30 seconds training examples shape:\\t{X_train_30.shape}')\n",
        "print(f'30 seconds testing examples shape:\\t{X_test_30.shape}')\n",
        "print(f'30 seconds training labels shape:\\t{y_train_30.shape}')\n",
        "print(f'30 seconds testing labels shape:\\t{y_test_30.shape}')\n",
        "print()\n",
        "\n",
        "print(f'3 seconds training examples shape:\\t{X_train_3.shape}')\n",
        "print(f'3 seconds testing examples shape:\\t{X_test_3.shape}')\n",
        "print(f'3 seconds training labels shape:\\t{y_train_3.shape}')\n",
        "print(f'3 seconds testing labels shape:\\t\\t{y_test_3.shape}')\n",
        "\n"
      ]
    },
    {
      "cell_type": "code",
      "execution_count": 56,
      "metadata": {
        "colab": {
          "base_uri": "https://localhost:8080/"
        },
        "id": "mqWHkOk71AQT",
        "outputId": "ea80303a-0ec2-44c4-de83-fd07774a6b55"
      },
      "outputs": [
        {
          "output_type": "stream",
          "name": "stderr",
          "text": [
            "/usr/local/lib/python3.9/dist-packages/sklearn/neural_network/_multilayer_perceptron.py:1098: DataConversionWarning: A column-vector y was passed when a 1d array was expected. Please change the shape of y to (n_samples, ), for example using ravel().\n",
            "  y = column_or_1d(y, warn=True)\n"
          ]
        }
      ],
      "source": [
        "#Neural Networks\n",
        "from sklearn.model_selection import GridSearchCV\n",
        "\n",
        "\n",
        "parameter_space={\n",
        "    'hidden_layer_sizes': [(10,10,10),(10,20,20,20,10),(20,30,30,30,20),(10,30,60,10), (20,20,20), (5,10,15,20),(1,2,3,4,5,10),(10,20,20),(20,30,20),(30,30,30),(40,40,40), (50,50,50)],\n",
        "    'activation':['tanh','relu','logistic'],\n",
        "    'solver':['sgd','adam'],\n",
        "    'learning_rate':['constant','adaptive'],\n",
        "    'alpha': [0.01,0.005,0.001]\n",
        "}\n",
        "\n",
        "\n",
        "hidden_layers = (50,50,50)\n",
        "mlp_30 = MLPClassifier(solver='lbfgs', alpha=1e-5, hidden_layer_sizes=(5000, 10), max_iter=200)\n",
        "mlp_3 = MLPClassifier(hidden_layer_sizes=hidden_layers, activation='tanh', solver='adam', max_iter=200, learning_rate='constant')\n",
        "\n",
        "history = mlp_30.fit(X_train_30, y_train_30)\n",
        "# mlp_3.fit(X_train_3, y_train_3)\n",
        "\n",
        "# mlp_30 = MLPClassifier(max_iter=200)\n",
        "# mlp_3 = MLPClassifier(max_iter=100)\n",
        "\n",
        "# clf_30 = GridSearchCV(mlp_30,parameter_space,n_jobs=4,cv=5)\n",
        "# clf_30.fit(X_train_30, y_train_30)\n",
        "\n",
        "# clf_3 = GridSearchCV(mlp_3,parameter_space,n_jobs=4,cv=5)\n",
        "# clf_3.fit(X_train_3, y_train_3)\n",
        "\n",
        "# print(f'Best Parameters found: \\n', clf_30.best_params_)\n",
        "# print(f'Best Parameters found: \\n', clf_3.best_params_)\n",
        "\n"
      ]
    },
    {
      "cell_type": "code",
      "source": [
        "plt.plot(history.loss_curve_, label='training loss')\n",
        "plt.xlabel('Epoch')\n",
        "plt.ylabel('Loss')\n",
        "plt.legend()\n",
        "plt.show()"
      ],
      "metadata": {
        "colab": {
          "base_uri": "https://localhost:8080/",
          "height": 239
        },
        "id": "QUvlErrdEmwJ",
        "outputId": "a45df978-c2bf-4c39-ec60-bc825cc83b1f"
      },
      "execution_count": 57,
      "outputs": [
        {
          "output_type": "error",
          "ename": "AttributeError",
          "evalue": "ignored",
          "traceback": [
            "\u001b[0;31m---------------------------------------------------------------------------\u001b[0m",
            "\u001b[0;31mAttributeError\u001b[0m                            Traceback (most recent call last)",
            "\u001b[0;32m<ipython-input-57-2b09c3f44676>\u001b[0m in \u001b[0;36m<cell line: 1>\u001b[0;34m()\u001b[0m\n\u001b[0;32m----> 1\u001b[0;31m \u001b[0mplt\u001b[0m\u001b[0;34m.\u001b[0m\u001b[0mplot\u001b[0m\u001b[0;34m(\u001b[0m\u001b[0mhistory\u001b[0m\u001b[0;34m.\u001b[0m\u001b[0mloss_curve_\u001b[0m\u001b[0;34m,\u001b[0m \u001b[0mlabel\u001b[0m\u001b[0;34m=\u001b[0m\u001b[0;34m'training loss'\u001b[0m\u001b[0;34m)\u001b[0m\u001b[0;34m\u001b[0m\u001b[0;34m\u001b[0m\u001b[0m\n\u001b[0m\u001b[1;32m      2\u001b[0m \u001b[0mplt\u001b[0m\u001b[0;34m.\u001b[0m\u001b[0mxlabel\u001b[0m\u001b[0;34m(\u001b[0m\u001b[0;34m'Epoch'\u001b[0m\u001b[0;34m)\u001b[0m\u001b[0;34m\u001b[0m\u001b[0;34m\u001b[0m\u001b[0m\n\u001b[1;32m      3\u001b[0m \u001b[0mplt\u001b[0m\u001b[0;34m.\u001b[0m\u001b[0mylabel\u001b[0m\u001b[0;34m(\u001b[0m\u001b[0;34m'Loss'\u001b[0m\u001b[0;34m)\u001b[0m\u001b[0;34m\u001b[0m\u001b[0;34m\u001b[0m\u001b[0m\n\u001b[1;32m      4\u001b[0m \u001b[0mplt\u001b[0m\u001b[0;34m.\u001b[0m\u001b[0mlegend\u001b[0m\u001b[0;34m(\u001b[0m\u001b[0;34m)\u001b[0m\u001b[0;34m\u001b[0m\u001b[0;34m\u001b[0m\u001b[0m\n\u001b[1;32m      5\u001b[0m \u001b[0mplt\u001b[0m\u001b[0;34m.\u001b[0m\u001b[0mshow\u001b[0m\u001b[0;34m(\u001b[0m\u001b[0;34m)\u001b[0m\u001b[0;34m\u001b[0m\u001b[0;34m\u001b[0m\u001b[0m\n",
            "\u001b[0;31mAttributeError\u001b[0m: 'MLPClassifier' object has no attribute 'loss_curve_'"
          ]
        }
      ]
    },
    {
      "cell_type": "code",
      "execution_count": null,
      "metadata": {
        "id": "duTZL2FAU2j5"
      },
      "outputs": [],
      "source": [
        "clf_30.cv_results_"
      ]
    },
    {
      "cell_type": "code",
      "execution_count": null,
      "metadata": {
        "id": "6WOR-GFplb7s"
      },
      "outputs": [],
      "source": [
        "results = clf_30.cv_results_\n",
        "params = results['params']\n",
        "mean_scores = results['mean_test_score']\n",
        "split0 = results['split0_test_score']\n",
        "split1 = results['split1_test_score']\n",
        "split2 = results['split2_test_score']\n",
        "split3 = results['split3_test_score']\n",
        "split4 = results['split4_test_score']"
      ]
    },
    {
      "cell_type": "code",
      "execution_count": null,
      "metadata": {
        "id": "tpPx_xKjl_2J"
      },
      "outputs": [],
      "source": [
        "for i, size in enumerate(params):\n",
        "  plt.bar(str(size['hidden_layer_sizes']), mean_scores[i])\n",
        "plt.tight_layout()\n",
        "plt.xticks(rotation='vertical')\n",
        "plt.ylabel('mean_score')\n",
        "plt.show()"
      ]
    },
    {
      "cell_type": "code",
      "execution_count": null,
      "metadata": {
        "id": "e_fiBEVNqAeQ"
      },
      "outputs": [],
      "source": [
        "for i, size in enumerate(params):\n",
        "  plt.bar(str(size['activation']), mean_scores[i])\n",
        "plt.tight_layout()\n",
        "plt.xticks(rotation='vertical')\n",
        "plt.show()"
      ]
    },
    {
      "cell_type": "code",
      "execution_count": null,
      "metadata": {
        "id": "IqTaWh1f1Qd5"
      },
      "outputs": [],
      "source": [
        "for i, size in enumerate(params):\n",
        "  plt.bar(str(size['solver']), mean_scores[i])\n",
        "plt.tight_layout()\n",
        "plt.xticks(rotation='vertical')\n",
        "plt.show()"
      ]
    },
    {
      "cell_type": "code",
      "execution_count": null,
      "metadata": {
        "id": "yJVa8g8u1br_"
      },
      "outputs": [],
      "source": [
        "for i, size in enumerate(params):\n",
        "  plt.bar(str(size['learning_rate']), mean_scores[i])\n",
        "plt.tight_layout()\n",
        "plt.xticks(rotation='vertical')\n",
        "plt.show()"
      ]
    },
    {
      "cell_type": "code",
      "execution_count": null,
      "metadata": {
        "id": "0VuL9ozu1mhQ"
      },
      "outputs": [],
      "source": [
        "for i, size in enumerate(params):\n",
        "  plt.bar(str(size['alpha']), mean_scores[i])\n",
        "plt.tight_layout()\n",
        "plt.xticks(rotation='vertical')\n",
        "plt.show()"
      ]
    },
    {
      "cell_type": "code",
      "execution_count": null,
      "metadata": {
        "colab": {
          "base_uri": "https://localhost:8080/"
        },
        "id": "AAUsK3Dmi_He",
        "outputId": "b2ef086e-d53a-43cf-9f7c-0451ff46d312"
      },
      "outputs": [
        {
          "data": {
            "text/plain": [
              "3"
            ]
          },
          "execution_count": 46,
          "metadata": {},
          "output_type": "execute_result"
        }
      ],
      "source": [
        "len(clf_30.cv_results_['params'])"
      ]
    },
    {
      "cell_type": "code",
      "execution_count": null,
      "metadata": {
        "colab": {
          "base_uri": "https://localhost:8080/"
        },
        "id": "cj6NO_KyjVxL",
        "outputId": "d5870cb0-319a-474e-ba23-9525d06ee2b4"
      },
      "outputs": [
        {
          "data": {
            "text/plain": [
              "array([0.58625, 0.65   , 0.59625])"
            ]
          },
          "execution_count": 54,
          "metadata": {},
          "output_type": "execute_result"
        }
      ],
      "source": [
        "clf_30.cv_results_['mean_test_score']"
      ]
    },
    {
      "cell_type": "code",
      "execution_count": 58,
      "metadata": {
        "id": "kY8GTsUNNCDc"
      },
      "outputs": [],
      "source": [
        "predict_train_mlp_30 = mlp_30.predict(X_train_30)\n",
        "predict_test_mlp_30 = mlp_30.predict(X_test_30)\n",
        "\n",
        "# predict_train_mlp_3 = mlp_3.predict(X_train_3)\n",
        "# predict_test_mlp_3 = mlp_3.predict(X_test_3)"
      ]
    },
    {
      "cell_type": "code",
      "execution_count": null,
      "metadata": {
        "id": "NYY0Wk-RZ461"
      },
      "outputs": [],
      "source": [
        "mean_scores = np.array(clf_3.cv_results_['mean_test_score'])\n",
        "clf_3.cv_results_"
      ]
    },
    {
      "cell_type": "code",
      "execution_count": null,
      "metadata": {
        "id": "xMrTywAgdCUZ"
      },
      "outputs": [],
      "source": [
        "param_names = list(parameter_space.keys())\n",
        "\n",
        "# loop through each parameter and plot the results\n",
        "for param_name in param_names:\n",
        "    param_values = parameter_space[param_name]\n",
        "    mean_scores = clf_3.cv_results_['mean_test_score']\n",
        "    std_scores = clf_3.cv_results_['std_test_score']\n",
        "    print(param_name, param_values,mean_scores,std_scores)"
      ]
    },
    {
      "cell_type": "code",
      "execution_count": 59,
      "metadata": {
        "colab": {
          "base_uri": "https://localhost:8080/",
          "height": 1000
        },
        "id": "nUsujC7AHPp1",
        "outputId": "432a59a7-e453-43ae-e429-994e669501a7"
      },
      "outputs": [
        {
          "output_type": "stream",
          "name": "stdout",
          "text": [
            "Classification Report on the Training Data of the Neural Network model of 30 seconds sounds\n",
            "[[80  0  0  0  0  0  0  0  0  0]\n",
            " [ 0 87  0  0  0  0  0  0  0  0]\n",
            " [ 0  0 73  0  0  0  0  0  0  0]\n",
            " [ 0  0  0 79  0  0  0  0  0  0]\n",
            " [ 0  0  0  0 85  0  0  0  0  0]\n",
            " [ 0  0  0  0  0 78  0  0  0  0]\n",
            " [ 0  0  0  0  0  0 74  0  0  1]\n",
            " [ 0  0  0  0  0  0  0 87  0  0]\n",
            " [ 0  0  0  0  0  0  0  0 77  0]\n",
            " [ 0  0  0  0  0  0  0  0  0 79]]\n",
            "              precision    recall  f1-score   support\n",
            "\n",
            "           0       1.00      1.00      1.00        80\n",
            "           1       1.00      1.00      1.00        87\n",
            "           2       1.00      1.00      1.00        73\n",
            "           3       1.00      1.00      1.00        79\n",
            "           4       1.00      1.00      1.00        85\n",
            "           5       1.00      1.00      1.00        78\n",
            "           6       1.00      0.99      0.99        75\n",
            "           7       1.00      1.00      1.00        87\n",
            "           8       1.00      1.00      1.00        77\n",
            "           9       0.99      1.00      0.99        79\n",
            "\n",
            "    accuracy                           1.00       800\n",
            "   macro avg       1.00      1.00      1.00       800\n",
            "weighted avg       1.00      1.00      1.00       800\n",
            "\n",
            "=====================================================\n",
            "\n",
            "Classification Report on the Test Data of the Neural Network model of 30 seconds sounds\n",
            "[[16  1  0  0  0  1  0  0  1  1]\n",
            " [ 0 13  0  0  0  0  0  0  0  0]\n",
            " [ 3  1 17  0  0  0  0  1  0  5]\n",
            " [ 0  0  1 14  5  0  0  0  0  1]\n",
            " [ 0  0  0  1 11  0  1  1  1  0]\n",
            " [ 1  1  2  1  0 17  0  0  0  0]\n",
            " [ 0  0  0  1  1  0 22  0  0  1]\n",
            " [ 1  0  0  1  0  0  0 10  0  1]\n",
            " [ 3  0  1  3  2  1  2  1  8  2]\n",
            " [ 1  0  2  2  1  0  1  1  1 12]]\n",
            "              precision    recall  f1-score   support\n",
            "\n",
            "           0       0.64      0.80      0.71        20\n",
            "           1       0.81      1.00      0.90        13\n",
            "           2       0.74      0.63      0.68        27\n",
            "           3       0.61      0.67      0.64        21\n",
            "           4       0.55      0.73      0.63        15\n",
            "           5       0.89      0.77      0.83        22\n",
            "           6       0.85      0.88      0.86        25\n",
            "           7       0.71      0.77      0.74        13\n",
            "           8       0.73      0.35      0.47        23\n",
            "           9       0.52      0.57      0.55        21\n",
            "\n",
            "    accuracy                           0.70       200\n",
            "   macro avg       0.71      0.72      0.70       200\n",
            "weighted avg       0.71      0.70      0.69       200\n",
            "\n"
          ]
        },
        {
          "output_type": "execute_result",
          "data": {
            "text/plain": [
              "<Axes: >"
            ]
          },
          "metadata": {},
          "execution_count": 59
        },
        {
          "output_type": "display_data",
          "data": {
            "text/plain": [
              "<Figure size 640x480 with 2 Axes>"
            ],
            "image/png": "[encoded data removed]"
          },
          "metadata": {}
        }
      ],
      "source": [
        "#CELL TO OUTPUT 30 SECOND SOUNDS\n",
        "\n",
        "print(\"Classification Report on the Training Data of the Neural Network model of 30 seconds sounds\")\n",
        "print(confusion_matrix(y_train_30, predict_train_mlp_30))\n",
        "print(classification_report(y_train_30, predict_train_mlp_30))\n",
        "print(\"=====================================================\")\n",
        "print(\"\\nClassification Report on the Test Data of the Neural Network model of 30 seconds sounds\")\n",
        "print(confusion_matrix(y_test_30, predict_test_mlp_30))\n",
        "print(classification_report(y_test_30, predict_test_mlp_30))\n",
        "\n",
        "import seaborn as sns\n",
        "\n",
        "clf_report = classification_report(y_train_30, predict_train_mlp_30, output_dict=True)\n",
        "sns.heatmap(pd.DataFrame(clf_report).iloc[:-1, :].T, annot=True)\n",
        "# clf_report = classification_report(y_test_30, predict_test_mlp_30, output_dict=True)\n",
        "# sns.heatmap(pd.DataFrame(clf_report).iloc[:-1, :].T, annot=True)\n"
      ]
    },
    {
      "cell_type": "code",
      "source": [
        "\n",
        "from sklearn.metrics import ConfusionMatrixDisplay\n",
        "\n",
        "titles_options = [(\"Confusion matrix, without normalization\", None),\n",
        "                  (\"Normalized confusion matrix\", 'true')]\n",
        "\n",
        "color = 'white'\n",
        "disp = ConfusionMatrixDisplay(confusion_matrix=confusion_matrix(y_train_30, predict_train_mlp_30), display_labels=labels)\n",
        "disp.plot()\n",
        "plt.show()\n",
        "\n",
        "\n",
        "\n",
        "\n",
        "\n",
        "\n",
        "\n",
        "\n",
        "\n",
        "\n",
        "\n",
        "\n",
        "\n",
        "\n",
        "\n",
        "\n"
      ],
      "metadata": {
        "colab": {
          "base_uri": "https://localhost:8080/",
          "height": 449
        },
        "id": "DNkCbS0fhha1",
        "outputId": "94a1f5d0-24b3-46e7-954e-4d5eaee9d5e2"
      },
      "execution_count": null,
      "outputs": [
        {
          "output_type": "display_data",
          "data": {
            "text/plain": [
              "<Figure size 640x480 with 2 Axes>"
            ],
            "image/png": "[encoded data removed]"
          },
          "metadata": {}
        }
      ]
    },
    {
      "cell_type": "code",
      "execution_count": null,
      "metadata": {
        "colab": {
          "base_uri": "https://localhost:8080/"
        },
        "id": "m6CoAwSK_CNI",
        "outputId": "30b276b2-6e2c-4deb-9345-8fa805f6590d"
      },
      "outputs": [
        {
          "output_type": "stream",
          "name": "stdout",
          "text": [
            "Classification Report on the Training Data of the Neural Network model of 3 seconds sounds\n",
            "[[792   0   0   0   0   0   0   0   0   0]\n",
            " [  0 795   0   0   0   0   0   0   0   0]\n",
            " [  0   0 810   0   0   0   1   0   0   0]\n",
            " [  0   0   0 800   0   0   0   0   0   0]\n",
            " [  0   0   0   0 780   0   0   0   0   0]\n",
            " [  0   0   0   0   0 808   0   0   0   0]\n",
            " [  0   0   0   0   0   0 793   0   0   3]\n",
            " [  0   0   0   0   0   0   0 820   0   0]\n",
            " [  0   0   0   0   0   0   0   0 789   0]\n",
            " [  0   0   0   0   0   0   5   0   0 796]]\n",
            "              precision    recall  f1-score   support\n",
            "\n",
            "       blues       1.00      1.00      1.00       792\n",
            "   classical       1.00      1.00      1.00       795\n",
            "     country       1.00      1.00      1.00       811\n",
            "       disco       1.00      1.00      1.00       800\n",
            "      hiphop       1.00      1.00      1.00       780\n",
            "        jazz       1.00      1.00      1.00       808\n",
            "       metal       0.99      1.00      0.99       796\n",
            "         pop       1.00      1.00      1.00       820\n",
            "      reggae       1.00      1.00      1.00       789\n",
            "        rock       1.00      0.99      0.99       801\n",
            "\n",
            "    accuracy                           1.00      7992\n",
            "   macro avg       1.00      1.00      1.00      7992\n",
            "weighted avg       1.00      1.00      1.00      7992\n",
            "\n",
            "=====================================================\n",
            "\n",
            "Classification Report on the Test Data of the Neural Network model of 3 seconds sounds\n",
            "[[174   0   8   2   0   8   4   1   4   7]\n",
            " [  1 183   2   0   0  15   0   2   0   0]\n",
            " [  7   0 154   1   2   8   2   4   4   4]\n",
            " [  3   4   4 151   7   2   5   6   6  11]\n",
            " [  4   1   2   7 184   0   3   5   8   4]\n",
            " [  4  11   7   1   1 166   0   0   2   0]\n",
            " [  1   0   0   2   2   0 194   0   0   5]\n",
            " [  0   0   1   2   5   1   0 161   9   1]\n",
            " [  2   2   7   2   5   3   4   3 174   9]\n",
            " [  4   1   6   6   4   3   7   6  11 149]]\n",
            "              precision    recall  f1-score   support\n",
            "\n",
            "       blues       0.87      0.84      0.85       208\n",
            "   classical       0.91      0.90      0.90       203\n",
            "     country       0.81      0.83      0.82       186\n",
            "       disco       0.87      0.76      0.81       199\n",
            "      hiphop       0.88      0.84      0.86       218\n",
            "        jazz       0.81      0.86      0.83       192\n",
            "       metal       0.89      0.95      0.92       204\n",
            "         pop       0.86      0.89      0.88       180\n",
            "      reggae       0.80      0.82      0.81       211\n",
            "        rock       0.78      0.76      0.77       197\n",
            "\n",
            "    accuracy                           0.85      1998\n",
            "   macro avg       0.85      0.85      0.85      1998\n",
            "weighted avg       0.85      0.85      0.85      1998\n",
            "\n"
          ]
        }
      ],
      "source": [
        "#OUTPUT CELL OF 3 SECOND SOUNDS NN\n",
        "\n",
        "print(\"Classification Report on the Training Data of the Neural Network model of 3 seconds sounds\")\n",
        "print(confusion_matrix(y_train_3, predict_train_mlp_3))\n",
        "print(classification_report(y_train_3, predict_train_mlp_3))\n",
        "print(\"=====================================================\")\n",
        "print(\"\\nClassification Report on the Test Data of the Neural Network model of 3 seconds sounds\")\n",
        "print(confusion_matrix(y_test_3, predict_test_mlp_3))\n",
        "print(classification_report(y_test_3, predict_test_mlp_3))"
      ]
    },
    {
      "cell_type": "code",
      "execution_count": null,
      "metadata": {
        "colab": {
          "base_uri": "https://localhost:8080/"
        },
        "id": "75quiEiBM-JR",
        "outputId": "c26df2d3-fe19-4c81-f176-91caa158fadb"
      },
      "outputs": [
        {
          "name": "stderr",
          "output_type": "stream",
          "text": [
            "/usr/local/lib/python3.9/dist-packages/sklearn/utils/validation.py:1143: DataConversionWarning: A column-vector y was passed when a 1d array was expected. Please change the shape of y to (n_samples, ), for example using ravel().\n",
            "  y = column_or_1d(y, warn=True)\n"
          ]
        }
      ],
      "source": [
        "#Logistic Regression with One versus All approach with 30 and 3 second sounds\n",
        "\n",
        "clf_30 = LogisticRegression(multi_class='ovr',max_iter=300)\n",
        "clf_30.fit(X_train_30, y_train_30)\n",
        "\n",
        "clf_3 = LogisticRegression(multi_class='ovr',max_iter=300)\n",
        "clf_3.fit(X_train_3, y_train_3)\n",
        "\n",
        "\n",
        "predict_train_logistic_30 = clf_30.predict(X_train_30)\n",
        "predict_test_logistic_30 = clf_30.predict(X_test_30)\n",
        "\n",
        "predict_train_logistic_3 = clf_3.predict(X_train_3)\n",
        "predict_test_logistic_3 = clf_3.predict(X_test_3)"
      ]
    },
    {
      "cell_type": "code",
      "execution_count": null,
      "metadata": {
        "colab": {
          "base_uri": "https://localhost:8080/",
          "height": 256
        },
        "id": "1Wcg1UMo0YQU",
        "outputId": "224ca27c-c186-4169-cfa5-7b3632b967ed"
      },
      "outputs": [
        {
          "output_type": "stream",
          "name": "stdout",
          "text": [
            "Classification Report on the Training Data of the Logistic Classification model of 30 seconds sounds\n"
          ]
        },
        {
          "output_type": "error",
          "ename": "NameError",
          "evalue": "ignored",
          "traceback": [
            "\u001b[0;31m---------------------------------------------------------------------------\u001b[0m",
            "\u001b[0;31mNameError\u001b[0m                                 Traceback (most recent call last)",
            "\u001b[0;32m<ipython-input-41-4ba209d4ddfd>\u001b[0m in \u001b[0;36m<cell line: 5>\u001b[0;34m()\u001b[0m\n\u001b[1;32m      3\u001b[0m \u001b[0;31m#print(confusion_matrix(y_train_30, predict_train_logistic))\u001b[0m\u001b[0;34m\u001b[0m\u001b[0;34m\u001b[0m\u001b[0m\n\u001b[1;32m      4\u001b[0m \u001b[0mprint\u001b[0m\u001b[0;34m(\u001b[0m\u001b[0;34m\"Classification Report on the Training Data of the Logistic Classification model of 30 seconds sounds\"\u001b[0m\u001b[0;34m)\u001b[0m\u001b[0;34m\u001b[0m\u001b[0;34m\u001b[0m\u001b[0m\n\u001b[0;32m----> 5\u001b[0;31m \u001b[0mprint\u001b[0m\u001b[0;34m(\u001b[0m\u001b[0mclassification_report\u001b[0m\u001b[0;34m(\u001b[0m\u001b[0my_train_30\u001b[0m\u001b[0;34m,\u001b[0m \u001b[0mpredict_train_logistic_30\u001b[0m\u001b[0;34m)\u001b[0m\u001b[0;34m)\u001b[0m\u001b[0;34m\u001b[0m\u001b[0;34m\u001b[0m\u001b[0m\n\u001b[0m\u001b[1;32m      6\u001b[0m \u001b[0mprint\u001b[0m\u001b[0;34m(\u001b[0m\u001b[0;34m\"=====================================================\"\u001b[0m\u001b[0;34m)\u001b[0m\u001b[0;34m\u001b[0m\u001b[0;34m\u001b[0m\u001b[0m\n\u001b[1;32m      7\u001b[0m \u001b[0;31m#print(confusion_matrix(y_test_30, predict_test_logistic))\u001b[0m\u001b[0;34m\u001b[0m\u001b[0;34m\u001b[0m\u001b[0m\n",
            "\u001b[0;31mNameError\u001b[0m: name 'predict_train_logistic_30' is not defined"
          ]
        }
      ],
      "source": [
        "#OUTPUT CELL OF 30 SECOND SOUNDS LOGISTIC REGRESSION\n",
        "\n",
        "#print(confusion_matrix(y_train_30, predict_train_logistic))\n",
        "print(\"Classification Report on the Training Data of the Logistic Classification model of 30 seconds sounds\")\n",
        "print(classification_report(y_train_30, predict_train_logistic_30))\n",
        "print(\"=====================================================\")\n",
        "#print(confusion_matrix(y_test_30, predict_test_logistic))\n",
        "print(\"\\nClassification Report on the Test Data of the Logistic Classification model of 30 seconds sounds\")\n",
        "print(classification_report(y_test_30, predict_test_logistic_30))\n",
        "\n",
        "\n",
        "import seaborn as sns\n",
        "\n",
        "clf_report = classification_report(y_test_30, predict_test_logistic_30, output_dict=True)\n"
      ]
    },
    {
      "cell_type": "code",
      "execution_count": null,
      "metadata": {
        "colab": {
          "base_uri": "https://localhost:8080/"
        },
        "id": "QPfqzwEbChBq",
        "outputId": "955caec6-d0d3-4278-ebe0-ffde08a74bee"
      },
      "outputs": [
        {
          "name": "stdout",
          "output_type": "stream",
          "text": [
            "Classification Report on the Training Data of the Logistic Classification model of 3 seconds sounds\n",
            "              precision    recall  f1-score   support\n",
            "\n",
            "       blues       0.68      0.73      0.71       792\n",
            "   classical       0.92      0.96      0.94       795\n",
            "     country       0.64      0.63      0.64       811\n",
            "       disco       0.66      0.69      0.67       800\n",
            "      hiphop       0.72      0.64      0.68       780\n",
            "        jazz       0.79      0.82      0.81       808\n",
            "       metal       0.80      0.87      0.83       796\n",
            "         pop       0.79      0.82      0.80       820\n",
            "      reggae       0.65      0.64      0.65       789\n",
            "        rock       0.59      0.47      0.52       801\n",
            "\n",
            "    accuracy                           0.73      7992\n",
            "   macro avg       0.72      0.73      0.72      7992\n",
            "weighted avg       0.72      0.73      0.72      7992\n",
            "\n",
            "=====================================================\n",
            "\n",
            "Classification Report on the Test Data of the Logistic Classification model of 3 seconds sounds\n",
            "              precision    recall  f1-score   support\n",
            "\n",
            "       blues       0.68      0.76      0.72       208\n",
            "   classical       0.90      0.96      0.93       203\n",
            "     country       0.58      0.63      0.61       186\n",
            "       disco       0.64      0.64      0.64       199\n",
            "      hiphop       0.76      0.68      0.72       218\n",
            "        jazz       0.76      0.80      0.78       192\n",
            "       metal       0.81      0.89      0.85       204\n",
            "         pop       0.75      0.84      0.80       180\n",
            "      reggae       0.70      0.64      0.67       211\n",
            "        rock       0.62      0.42      0.50       197\n",
            "\n",
            "    accuracy                           0.73      1998\n",
            "   macro avg       0.72      0.73      0.72      1998\n",
            "weighted avg       0.72      0.73      0.72      1998\n",
            "\n"
          ]
        }
      ],
      "source": [
        "#OUTPUT CELL OF 3 SECOND SOUNDS LOGISTIC REGRESSION\n",
        "\n",
        "#print(confusion_matrix(y_train_3, predict_train_logistic_3))\n",
        "print(\"Classification Report on the Training Data of the Logistic Classification model of 3 seconds sounds\")\n",
        "print(classification_report(y_train_3, predict_train_logistic_3))\n",
        "print(\"=====================================================\")\n",
        "#print(confusion_matrix(y_test_3, predict_test_logistic))\n",
        "print(\"\\nClassification Report on the Test Data of the Logistic Classification model of 3 seconds sounds\")\n",
        "print(classification_report(y_test_3, predict_test_logistic_3))"
      ]
    },
    {
      "cell_type": "code",
      "execution_count": null,
      "metadata": {
        "colab": {
          "base_uri": "https://localhost:8080/",
          "height": 374
        },
        "id": "l6v95ymKMDD4",
        "outputId": "2fee2bf8-9509-4449-bdf1-ec38a77b78db"
      },
      "outputs": [
        {
          "ename": "FileNotFoundError",
          "evalue": "ignored",
          "output_type": "error",
          "traceback": [
            "\u001b[0;31m---------------------------------------------------------------------------\u001b[0m",
            "\u001b[0;31mFileNotFoundError\u001b[0m                         Traceback (most recent call last)",
            "\u001b[0;32m<ipython-input-15-ae8064604c68>\u001b[0m in \u001b[0;36m<cell line: 7>\u001b[0;34m()\u001b[0m\n\u001b[1;32m     11\u001b[0m         \u001b[0;32melse\u001b[0m\u001b[0;34m:\u001b[0m\u001b[0;34m\u001b[0m\u001b[0;34m\u001b[0m\u001b[0m\n\u001b[1;32m     12\u001b[0m           \u001b[0mi\u001b[0m \u001b[0;34m=\u001b[0m \u001b[0mgenre\u001b[0m \u001b[0;34m+\u001b[0m \u001b[0;34m\"000\"\u001b[0m \u001b[0;34m+\u001b[0m \u001b[0mstr\u001b[0m\u001b[0;34m(\u001b[0m\u001b[0mi\u001b[0m\u001b[0;34m)\u001b[0m\u001b[0;34m\u001b[0m\u001b[0;34m\u001b[0m\u001b[0m\n\u001b[0;32m---> 13\u001b[0;31m         \u001b[0mimg\u001b[0m \u001b[0;34m=\u001b[0m \u001b[0mImage\u001b[0m\u001b[0;34m.\u001b[0m\u001b[0mopen\u001b[0m\u001b[0;34m(\u001b[0m\u001b[0;34mf\"{folder_path}/{genre}/{i}.png\"\u001b[0m\u001b[0;34m)\u001b[0m\u001b[0;34m\u001b[0m\u001b[0;34m\u001b[0m\u001b[0m\n\u001b[0m\u001b[1;32m     14\u001b[0m         \u001b[0mX\u001b[0m\u001b[0;34m.\u001b[0m\u001b[0mappend\u001b[0m\u001b[0;34m(\u001b[0m\u001b[0mnp\u001b[0m\u001b[0;34m.\u001b[0m\u001b[0marray\u001b[0m\u001b[0;34m(\u001b[0m\u001b[0mimg\u001b[0m\u001b[0;34m)\u001b[0m\u001b[0;34m)\u001b[0m\u001b[0;34m\u001b[0m\u001b[0;34m\u001b[0m\u001b[0m\n\u001b[1;32m     15\u001b[0m         \u001b[0my\u001b[0m\u001b[0;34m.\u001b[0m\u001b[0mappend\u001b[0m\u001b[0;34m(\u001b[0m\u001b[0mgenre\u001b[0m\u001b[0;34m)\u001b[0m\u001b[0;34m\u001b[0m\u001b[0;34m\u001b[0m\u001b[0m\n",
            "\u001b[0;32m/usr/local/lib/python3.9/dist-packages/PIL/Image.py\u001b[0m in \u001b[0;36mopen\u001b[0;34m(fp, mode, formats)\u001b[0m\n\u001b[1;32m   2973\u001b[0m \u001b[0;34m\u001b[0m\u001b[0m\n\u001b[1;32m   2974\u001b[0m     \u001b[0;32mif\u001b[0m \u001b[0mfilename\u001b[0m\u001b[0;34m:\u001b[0m\u001b[0;34m\u001b[0m\u001b[0;34m\u001b[0m\u001b[0m\n\u001b[0;32m-> 2975\u001b[0;31m         \u001b[0mfp\u001b[0m \u001b[0;34m=\u001b[0m \u001b[0mbuiltins\u001b[0m\u001b[0;34m.\u001b[0m\u001b[0mopen\u001b[0m\u001b[0;34m(\u001b[0m\u001b[0mfilename\u001b[0m\u001b[0;34m,\u001b[0m \u001b[0;34m\"rb\"\u001b[0m\u001b[0;34m)\u001b[0m\u001b[0;34m\u001b[0m\u001b[0;34m\u001b[0m\u001b[0m\n\u001b[0m\u001b[1;32m   2976\u001b[0m         \u001b[0mexclusive_fp\u001b[0m \u001b[0;34m=\u001b[0m \u001b[0;32mTrue\u001b[0m\u001b[0;34m\u001b[0m\u001b[0;34m\u001b[0m\u001b[0m\n\u001b[1;32m   2977\u001b[0m \u001b[0;34m\u001b[0m\u001b[0m\n",
            "\u001b[0;31mFileNotFoundError\u001b[0m: [Errno 2] No such file or directory: '/content/drive/MyDrive/ML_genre_classification_nn_project/Data1/images_original/blues/blues00000.png'"
          ]
        }
      ],
      "source": [
        "# Define the path to the folder containing the Mel spectrograms\n",
        "folder_path = '/content/drive/MyDrive/ML_genre_classification_nn_project/Data1/images_original'\n",
        "\n",
        "# Load the data from each file\n",
        "X = []\n",
        "y = []\n",
        "for genre in ['blues', 'classical', 'country', 'disco', 'hiphop', 'jazz', 'metal', 'pop', 'reggae', 'rock']:\n",
        "    for i in range(0, 10):\n",
        "        if(i < 10):\n",
        "          i = genre + \"0000\" + str(i)\n",
        "        else:\n",
        "          i = genre + \"000\" + str(i)\n",
        "        img = Image.open(f\"{folder_path}/{genre}/{i}.png\")\n",
        "        X.append(np.array(img))\n",
        "        y.append(genre)\n",
        "\n",
        "# Convert the genre labels to numerical values\n",
        "le = LabelEncoder()\n",
        "y = le.fit_transform(y)\n",
        "\n",
        "# Shuffle the data\n",
        "X, y = shuffle(X, y)\n",
        "\n",
        "# Convert data and labels to NumPy arrays\n",
        "data = np.array(X)\n",
        "labels = np.array(y)\n",
        "\n",
        "\n",
        "\n",
        "# Normalize the input data\n",
        "max_pixel_value = np.max(data)\n",
        "data = data.astype('float32') / max_pixel_value\n",
        "labels = to_categorical(labels)\n",
        "train_data, val_data, train_labels, val_labels = train_test_split(data, labels, test_size=0.2, random_state=42)\n",
        "\n",
        "\n",
        "\n",
        "\n",
        "# Define the model architecture\n",
        "model = Sequential()\n",
        "model.add(Conv2D(32, (3, 3), activation='relu', input_shape=X_train[0].shape))\n",
        "model.add(MaxPooling2D((2, 2)))\n",
        "model.add(Conv2D(64, (3, 3), activation='relu'))\n",
        "model.add(MaxPooling2D((2, 2)))\n",
        "model.add(Conv2D(64, (3, 3), activation='relu'))\n",
        "model.add(Flatten())\n",
        "model.add(Dense(64, activation='relu'))\n",
        "model.add(Dropout(0.5))\n",
        "model.add(Dense(10, activation='softmax'))\n",
        "\n",
        "# Compile the model\n",
        "model.compile(optimizer='adam', loss='categorical_crossentropy', metrics=['accuracy'])\n",
        "\n",
        "# Train the model\n",
        "model.fit(X_train, y_train, epochs=10, batch_size=32, validation_data=(X_test, y_test))\n",
        "\n",
        "# Evaluate the model on the test set\n",
        "y_pred = np.argmax(model.predict(X_test), axis=-1)\n",
        "print(classification_report(np.argmax(y_test, axis=-1), y_pred, target_names=le.classes_))"
      ]
    }
  ],
  "metadata": {
    "colab": {
      "provenance": []
    },
    "gpuClass": "standard",
    "kernelspec": {
      "display_name": "Python 3",
      "name": "python3"
    },
    "language_info": {
      "name": "python"
    }
  },
  "nbformat": 4,
  "nbformat_minor": 0
}